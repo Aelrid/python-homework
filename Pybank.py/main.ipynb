{
 "cells": [
  {
   "cell_type": "code",
   "execution_count": 663,
   "metadata": {},
   "outputs": [],
   "source": [
    "## Importing from Pathlib directory\n",
    "from pathlib import Path\n",
    "import csv"
   ]
  },
  {
   "cell_type": "code",
   "execution_count": 664,
   "metadata": {},
   "outputs": [
    {
     "name": "stdout",
     "output_type": "stream",
     "text": [
      "current working directory:C:\\Users\\aelri\\Desktop\\Python Assignment\\python-homework\\Pybank.py\n"
     ]
    }
   ],
   "source": [
    "print(f\"current working directory:{Path.cwd()}\")"
   ]
  },
  {
   "cell_type": "code",
   "execution_count": 665,
   "metadata": {},
   "outputs": [],
   "source": [
    "filepath=r\"C:\\Users\\aelri\\Desktop\\Python Assignment\\python-homework\\Pybank.py\\Resources\\budget_data.csv\""
   ]
  },
  {
   "cell_type": "code",
   "execution_count": 666,
   "metadata": {},
   "outputs": [],
   "source": [
    "Total_Months=0\n",
    "Total_Profit=0\n",
    "Average=0\n",
    "Maximum_Profit=0\n",
    "Minimum_Profit=0\n",
    "Profit=0\n",
    "Profit_Count=0\n",
    "Months=0\n",
    "Month=0\n",
    "Monthly=[]\n",
    "Monthly_Average=[]\n",
    "Dict={}\n",
    "Profit_Losses=0\n",
    "\n",
    "# Initialize minimum key-value pair\n",
    "minimum_key = \"\"\n",
    "minimum_value = 0\n",
    "\n",
    "# Initialize maximum key-value pair\n",
    "maximum_key = \"\"\n",
    "maximum_value = 0"
   ]
  },
  {
   "cell_type": "code",
   "execution_count": 682,
   "metadata": {
    "scrolled": true
   },
   "outputs": [
    {
     "name": "stdout",
     "output_type": "stream",
     "text": [
      "['Date', 'Profit/Losses']\n"
     ]
    },
    {
     "ename": "TypeError",
     "evalue": "'int' object is not iterable",
     "output_type": "error",
     "traceback": [
      "\u001b[1;31m---------------------------------------------------------------------------\u001b[0m",
      "\u001b[1;31mTypeError\u001b[0m                                 Traceback (most recent call last)",
      "\u001b[1;32m<ipython-input-682-d3f6d39d793d>\u001b[0m in \u001b[0;36m<module>\u001b[1;34m\u001b[0m\n\u001b[0;32m      9\u001b[0m         \u001b[0mTotal_Months\u001b[0m \u001b[1;33m+=\u001b[0m \u001b[1;36m1\u001b[0m\u001b[1;33m\u001b[0m\u001b[1;33m\u001b[0m\u001b[0m\n\u001b[0;32m     10\u001b[0m         \u001b[0mMonthly\u001b[0m\u001b[1;33m.\u001b[0m\u001b[0mappend\u001b[0m\u001b[1;33m(\u001b[0m\u001b[0mProfit_Losses\u001b[0m\u001b[1;33m)\u001b[0m\u001b[1;33m\u001b[0m\u001b[1;33m\u001b[0m\u001b[0m\n\u001b[1;32m---> 11\u001b[1;33m         \u001b[1;32mfor\u001b[0m \u001b[0mProfit\u001b[0m \u001b[1;32min\u001b[0m \u001b[0mProfit_Losses\u001b[0m\u001b[1;33m:\u001b[0m\u001b[1;33m\u001b[0m\u001b[1;33m\u001b[0m\u001b[0m\n\u001b[0m\u001b[0;32m     12\u001b[0m             \u001b[0mTotal_Profit_Losses\u001b[0m\u001b[1;33m+=\u001b[0m\u001b[0mProfit\u001b[0m\u001b[1;33m\u001b[0m\u001b[1;33m\u001b[0m\u001b[0m\n\u001b[0;32m     13\u001b[0m             \u001b[0mProfit_Count\u001b[0m \u001b[1;33m+=\u001b[0m \u001b[1;36m1\u001b[0m\u001b[1;33m\u001b[0m\u001b[1;33m\u001b[0m\u001b[0m\n",
      "\u001b[1;31mTypeError\u001b[0m: 'int' object is not iterable"
     ]
    }
   ],
   "source": [
    "with open(filepath,'r') as budget_data:\n",
    "    csvreader=csv.reader(budget_data, delimiter=\",\")\n",
    "    csv_header = next(csvreader)\n",
    "    print(csv_header)\n",
    "    for row in csvreader:\n",
    "        Date = (row[0])\n",
    "        Profit_Losses = int(row[1])\n",
    "        Total_Profit += Profit_Losses\n",
    "        Total_Months += 1\n",
    "        Monthly.append(Profit_Losses)\n",
    "        \n",
    "        for Profit in Profit_Losses:\n",
    "            Total_Profit_Losses+=Profit\n",
    "            Profit_Count += 1  \n",
    "            \n",
    "        if Minimum_Profit == 0:\n",
    "             Minimum_Profit = Profit\n",
    "        elif Profit > Maximum_Profit:\n",
    "            Maximum_Profit = Profit\n",
    "        elif Profit < Minimum_Profit:\n",
    "            Minimum_Profit = Profit\n"
   ]
  },
  {
   "cell_type": "code",
   "execution_count": 657,
   "metadata": {},
   "outputs": [],
   "source": [
    "    average=((Monthly[-1]-Monthly[0])/(Total_Months-1))\n",
    "    "
   ]
  },
  {
   "cell_type": "code",
   "execution_count": 659,
   "metadata": {},
   "outputs": [
    {
     "name": "stdout",
     "output_type": "stream",
     "text": [
      "86\n",
      "38382578\n",
      "-2315.1176470588234\n",
      " 0\n",
      " 0\n"
     ]
    }
   ],
   "source": [
    "# Read each row of data after the he\n",
    "print(Total_Months)\n",
    "print(Total_Profit)\n",
    "print(average)\n",
    "print(maximum_key,maximum_value)\n",
    "print(minimum_key,minimum_value)\n",
    "\n",
    "## The average of the changes in Profit/Losses over the entire period.\n",
    "\n"
   ]
  },
  {
   "cell_type": "code",
   "execution_count": null,
   "metadata": {},
   "outputs": [],
   "source": [
    "\n",
    "\n",
    "\n",
    "\n"
   ]
  }
 ],
 "metadata": {
  "kernelspec": {
   "display_name": "Python 3",
   "language": "python",
   "name": "python3"
  },
  "language_info": {
   "codemirror_mode": {
    "name": "ipython",
    "version": 3
   },
   "file_extension": ".py",
   "mimetype": "text/x-python",
   "name": "python",
   "nbconvert_exporter": "python",
   "pygments_lexer": "ipython3",
   "version": "3.8.5"
  },
  "widgets": {
   "application/vnd.jupyter.widget-state+json": {
    "state": {},
    "version_major": 2,
    "version_minor": 0
   }
  }
 },
 "nbformat": 4,
 "nbformat_minor": 4
}
