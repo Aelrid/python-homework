{
 "cells": [
  {
   "cell_type": "code",
   "execution_count": 62,
   "metadata": {},
   "outputs": [],
   "source": [
    "## Importing from Pathlib directory\n",
    "from pathlib import Path\n",
    "import csv"
   ]
  },
  {
   "cell_type": "code",
   "execution_count": 63,
   "metadata": {},
   "outputs": [
    {
     "name": "stdout",
     "output_type": "stream",
     "text": [
      "current working directory:C:\\Users\\aelri\\Desktop\\Python Assignment\\python-homework\\Pybank.py\n"
     ]
    }
   ],
   "source": [
    "print(f\"current working directory:{Path.cwd()}\")"
   ]
  },
  {
   "cell_type": "code",
   "execution_count": 64,
   "metadata": {},
   "outputs": [],
   "source": [
    "filepath=r\"C:\\Users\\aelri\\Desktop\\Python Assignment\\python-homework\\Pybank.py\\Resources\\budget_data.csv\""
   ]
  },
  {
   "cell_type": "code",
   "execution_count": 65,
   "metadata": {},
   "outputs": [],
   "source": [
    "Total_Months=0\n",
    "Total_Profit=0\n",
    "Average=0\n",
    "Maximum_Profit=0\n",
    "Minimum_Profit=0\n",
    "Change_Profit=0\n",
    "Monthly=[]\n",
    "Monthly_Average=[]\n",
    "Monthly_Change=[]\n",
    "Profit_Losses=0\n",
    "Maximum_count=0\n",
    "Count_Change=0\n",
    "\n",
    "# Initialize minimum key-value pair\n",
    "minimum_key = \"\"\n",
    "minimum_value = 0\n",
    "\n",
    "# Initialize maximum key-value pair\n",
    "maximum_key = \"\"\n",
    "maximum_value = 0"
   ]
  },
  {
   "cell_type": "code",
   "execution_count": 66,
   "metadata": {},
   "outputs": [
    {
     "name": "stdout",
     "output_type": "stream",
     "text": [
      "['Date', 'Profit/Losses']\n"
     ]
    }
   ],
   "source": [
    "with open(filepath,'r') as budget_data:\n",
    "    csvreader=csv.reader(budget_data, delimiter=\",\")\n",
    "    csv_header = next(csvreader)\n",
    "    print(csv_header)\n",
    "    for row in csvreader:\n",
    "        Date = (row[0])\n",
    "        Profit_Losses = int(row[1])\n",
    "        Total_Profit += Profit_Losses\n",
    "        Total_Months += 1 \n",
    "        Monthly.append(Profit_Losses)"
   ]
  },
  {
   "cell_type": "code",
   "execution_count": 67,
   "metadata": {},
   "outputs": [],
   "source": [
    "        for row in range(1,len(Monthly)):\n",
    "            Monthly_Change.append(Monthly[row]-Monthly[row-1])\n",
    "        for change in Monthly_Change:\n",
    "            Change_Profit+=change\n",
    "            Count_Change += 1\n",
    "            if Minimum_Profit == 0:\n",
    "                Minimum_Profit = change\n",
    "            elif change > Minimum_Profit:\n",
    "                Maximum_Profit = change\n",
    "            elif change < Minimum_Profit:\n",
    "                Minimum_Profit = change"
   ]
  },
  {
   "cell_type": "code",
   "execution_count": 60,
   "metadata": {},
   "outputs": [],
   "source": [
    "average=((Monthly[-1]-Monthly[0])/(Total_Months-1))"
   ]
  },
  {
   "cell_type": "code",
   "execution_count": 73,
   "metadata": {},
   "outputs": [
    {
     "name": "stdout",
     "output_type": "stream",
     "text": [
      "86\n",
      "38382578\n",
      "-2315.1176470588234\n",
      "-2196167\n",
      "532869\n",
      "[116771, -662642, -391430, 379920, 212354, 510239, -428211, -821271, 693918, 416278, -974163, 860159, -1115009, 1033048, 95318, -308093, 99052, -521393, 605450, 231727, -65187, -702716, 177975, -1065544, 1926159, -917805, 898730, -334262, -246499, -64055, -1529236, 1497596, 304914, -635801, 398319, -183161, -37864, -253689, 403655, 94168, 306877, -83000, 210462, -2196167, 1465222, -956983, 1838447, -468003, -64602, 206242, -242155, -449079, 315198, 241099, 111540, 365942, -219310, -368665, 409837, 151210, -110244, -341938, -1212159, 683246, -70825, 335594, 417334, -272194, -236462, 657432, -211262, -128237, -1750387, 925441, 932089, -311434, 267252, -1876758, 1733696, 198551, -665765, 693229, -734926, 77242, 532869]\n"
     ]
    }
   ],
   "source": [
    "# Read each row of data after the he\n",
    "print(Total_Months)\n",
    "print(Total_Profit)\n",
    "print(average)\n",
    "print(Minimum_Profit)\n",
    "print(Maximum_Profit)\n",
    "print(Monthly_Change)\n",
    "## The average of the changes in Profit/Losses over the entire period.\n",
    "\n"
   ]
  },
  {
   "cell_type": "code",
   "execution_count": 71,
   "metadata": {},
   "outputs": [
    {
     "name": "stdout",
     "output_type": "stream",
     "text": [
      "1393290\n"
     ]
    }
   ],
   "source": [
    "\n",
    "\n",
    "\n",
    "\n",
    "\n"
   ]
  }
 ],
 "metadata": {
  "kernelspec": {
   "display_name": "Python 3",
   "language": "python",
   "name": "python3"
  },
  "language_info": {
   "codemirror_mode": {
    "name": "ipython",
    "version": 3
   },
   "file_extension": ".py",
   "mimetype": "text/x-python",
   "name": "python",
   "nbconvert_exporter": "python",
   "pygments_lexer": "ipython3",
   "version": "3.8.5"
  },
  "widgets": {
   "application/vnd.jupyter.widget-state+json": {
    "state": {},
    "version_major": 2,
    "version_minor": 0
   }
  }
 },
 "nbformat": 4,
 "nbformat_minor": 4
}
