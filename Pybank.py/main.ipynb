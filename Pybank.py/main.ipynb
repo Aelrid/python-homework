{
 "cells": [
  {
   "cell_type": "code",
   "execution_count": 410,
   "metadata": {},
   "outputs": [],
   "source": [
    "## Importing from Pathlib directory\n",
    "from pathlib import Path\n",
    "import csv"
   ]
  },
  {
   "cell_type": "code",
   "execution_count": 411,
   "metadata": {},
   "outputs": [
    {
     "name": "stdout",
     "output_type": "stream",
     "text": [
      "current working directory:C:\\Users\\aelri\\Desktop\\Python Assignment\\python-homework\\Pybank.py\n"
     ]
    }
   ],
   "source": [
    "print(f\"current working directory:{Path.cwd()}\")"
   ]
  },
  {
   "cell_type": "code",
   "execution_count": 412,
   "metadata": {},
   "outputs": [],
   "source": [
    "## initializing variables and empty lists\n",
    "Total_Months=0\n",
    "Total_Profit=0\n",
    "Profit=0\n",
    "Average=0\n",
    "Change_Profit=0\n",
    "Profit_Losses=0\n",
    "net_change_list = []\n",
    "Average_profit=[]\n",
    "greatest_increase = [\"\", 0]\n",
    "greatest_decrease = [\"\", 9999999999999999999]"
   ]
  },
  {
   "cell_type": "code",
   "execution_count": 413,
   "metadata": {},
   "outputs": [
    {
     "name": "stdout",
     "output_type": "stream",
     "text": [
      "['Date', 'Profit/Losses']\n"
     ]
    }
   ],
   "source": [
    "with open(filepath,'r') as budget_data:\n",
    "    csvreader=csv.reader(budget_data, delimiter=\",\")\n",
    "    csv_header = next(csvreader)\n",
    "    print(csv_header)\n",
    "    for row in csvreader:\n",
    "        Date = (row[0])\n",
    "        Total_Profit += int(row[1])\n",
    "        Total_Months += 1 \n",
    "        net_change = int(row[1]) - Profit_Losses\n",
    "        Profit_Losses =int(row[1])\n",
    "        Average_profit.append(int(row[1]))\n",
    "        net_change_list.append(net_change)\n",
    "        if net_change > greatest_increase[1]:\n",
    "            greatest_increase[0] = row[0]\n",
    "            greatest_increase[1] = net_change\n",
    "        if net_change < greatest_decrease[1]:\n",
    "            greatest_decrease[0] = row[0]\n",
    "            greatest_decrease[1] = net_change"
   ]
  },
  {
   "cell_type": "code",
   "execution_count": 414,
   "metadata": {},
   "outputs": [],
   "source": [
    "# Computing net average change\n",
    "net_monthly_avg =(round(Average_profit[-1]-Average_profit[0]) / (Total_Months-1),2)"
   ]
  },
  {
   "cell_type": "code",
   "execution_count": 415,
   "metadata": {},
   "outputs": [
    {
     "name": "stdout",
     "output_type": "stream",
     "text": [
      "86\n",
      "38382578\n",
      "(-2315.1176470588234, 2)\n",
      "['Sep-2013', -2196167]\n",
      "['Feb-2012', 1926159]\n"
     ]
    }
   ],
   "source": [
    "# Outputs\n",
    "print(Total_Months)\n",
    "print(Total_Profit)\n",
    "print(net_monthly_avg)\n",
    "print(greatest_decrease)\n",
    "print(greatest_increase)\n"
   ]
  },
  {
   "cell_type": "code",
   "execution_count": 416,
   "metadata": {},
   "outputs": [],
   "source": [
    "output_file = 'Financial_Analysis.txt'\n",
    "with open('Financial_Analysis.txt', \"w\") as textfile:\n",
    "    textfile.write(f\"Financial Analysis\")\n",
    "    textfile.write(f\"--------------------\")\n",
    "    textfile.write(f\"Total Months: {Total_Months}\")\n",
    "    textfile.write(f\"Total Profit: ${Total_Profit}\")\n",
    "    textfile.write(f\"Average Change: ${net_monthly_avg}\")\n",
    "    textfile.write(f\"Greatest Increase in Profits: {greatest_increase}\")\n",
    "    textfile.write(f\"Greatest Decrease in Profits: {greatest_decrease}\")"
   ]
  }
 ],
 "metadata": {
  "kernelspec": {
   "display_name": "Python 3",
   "language": "python",
   "name": "python3"
  },
  "language_info": {
   "codemirror_mode": {
    "name": "ipython",
    "version": 3
   },
   "file_extension": ".py",
   "mimetype": "text/x-python",
   "name": "python",
   "nbconvert_exporter": "python",
   "pygments_lexer": "ipython3",
   "version": "3.8.5"
  },
  "widgets": {
   "application/vnd.jupyter.widget-state+json": {
    "state": {},
    "version_major": 2,
    "version_minor": 0
   }
  }
 },
 "nbformat": 4,
 "nbformat_minor": 4
}
