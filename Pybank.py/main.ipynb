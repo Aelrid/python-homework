{
 "cells": [
  {
   "cell_type": "code",
   "execution_count": 827,
   "metadata": {},
   "outputs": [],
   "source": [
    "## Importing from Pathlib directory\n",
    "from pathlib import Path\n",
    "import csv"
   ]
  },
  {
   "cell_type": "code",
   "execution_count": 828,
   "metadata": {},
   "outputs": [
    {
     "name": "stdout",
     "output_type": "stream",
     "text": [
      "current working directory:C:\\Users\\aelri\\Desktop\\Python Assignment\\python-homework\\Pybank.py\n"
     ]
    }
   ],
   "source": [
    "print(f\"current working directory:{Path.cwd()}\")"
   ]
  },
  {
   "cell_type": "code",
   "execution_count": 829,
   "metadata": {},
   "outputs": [],
   "source": [
    "filepath=r\"C:\\Users\\aelri\\Desktop\\Python Assignment\\python-homework\\Pybank.py\\Resources\\budget_data.csv\""
   ]
  },
  {
   "cell_type": "code",
   "execution_count": 835,
   "metadata": {},
   "outputs": [],
   "source": [
    "Total_Months=0\n",
    "Total_Profit=0\n",
    "Average=0\n",
    "Maximum_Profit=0\n",
    "Minimum_Profit=0\n",
    "Change_Profit=0\n",
    "Monthly=[]\n",
    "Monthly_Average=[]\n",
    "Monthly_Change=[]\n",
    "Profit_Losses=0\n",
    "Maximum_count=0\n",
    "Count_Change=0\n",
    "\n",
    "# Initialize minimum key-value pair\n",
    "minimum_key = \"\"\n",
    "minimum_value = 0\n",
    "\n",
    "# Initialize maximum key-value pair\n",
    "maximum_key = \"\"\n",
    "maximum_value = 0"
   ]
  },
  {
   "cell_type": "code",
   "execution_count": 841,
   "metadata": {
    "scrolled": true
   },
   "outputs": [
    {
     "name": "stdout",
     "output_type": "stream",
     "text": [
      "['Date', 'Profit/Losses']\n"
     ]
    }
   ],
   "source": [
    "with open(filepath,'r') as budget_data:\n",
    "    csvreader=csv.reader(budget_data, delimiter=\",\")\n",
    "    csv_header = next(csvreader)\n",
    "    print(csv_header)\n",
    "    for row in csvreader:\n",
    "        Date = (row[0])\n",
    "        Profit_Losses = int(row[1])\n",
    "        Total_Profit += Profit_Losses\n",
    "        Total_Months += 1 \n",
    "        Monthly.append(Profit_Losses)\n",
    "        \n",
    "        for row in range(1,len(Monthly)):\n",
    "            Monthly_Change.append(Monthly[row]-Monthly[row-1])\n",
    "        for change in Monthly_Change:\n",
    "            Change_Profit+=change\n",
    "            Count_Change += 1\n",
    "            if Minimum_Profit == 0:\n",
    "                Minimum_Profit = Change_Profit\n",
    "            elif Change_Profit > Minimum_Profit:\n",
    "                Maximum_Profit = Change_Profit\n",
    "            elif Change_Profit < Minimum_Profit:\n",
    "                Minimum_Profit = Change_Profit\n"
   ]
  },
  {
   "cell_type": "code",
   "execution_count": 842,
   "metadata": {},
   "outputs": [],
   "source": [
    "    average=((Monthly[-1]-Monthly[0])/(Total_Months-1))\n",
    "   "
   ]
  },
  {
   "cell_type": "code",
   "execution_count": 843,
   "metadata": {},
   "outputs": [
    {
     "name": "stdout",
     "output_type": "stream",
     "text": [
      "172\n",
      "76765156\n",
      "-1150.7894736842106\n",
      "-6161540416\n",
      "-6159673092\n"
     ]
    }
   ],
   "source": [
    "# Read each row of data after the he\n",
    "print(Total_Months)\n",
    "print(Total_Profit)\n",
    "print(average)\n",
    "print(Minimum_Profit)\n",
    "print(Maximum_Profit)\n",
    "\n",
    "## The average of the changes in Profit/Losses over the entire period.\n",
    "\n"
   ]
  },
  {
   "cell_type": "code",
   "execution_count": null,
   "metadata": {},
   "outputs": [],
   "source": [
    "\n",
    "\n",
    "\n",
    "\n"
   ]
  }
 ],
 "metadata": {
  "kernelspec": {
   "display_name": "Python 3",
   "language": "python",
   "name": "python3"
  },
  "language_info": {
   "codemirror_mode": {
    "name": "ipython",
    "version": 3
   },
   "file_extension": ".py",
   "mimetype": "text/x-python",
   "name": "python",
   "nbconvert_exporter": "python",
   "pygments_lexer": "ipython3",
   "version": "3.8.5"
  },
  "widgets": {
   "application/vnd.jupyter.widget-state+json": {
    "state": {},
    "version_major": 2,
    "version_minor": 0
   }
  }
 },
 "nbformat": 4,
 "nbformat_minor": 4
}
